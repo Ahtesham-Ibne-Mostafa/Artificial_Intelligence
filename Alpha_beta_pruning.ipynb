{
  "nbformat": 4,
  "nbformat_minor": 0,
  "metadata": {
    "colab": {
      "provenance": [],
      "authorship_tag": "ABX9TyP793PiNpEjdQdQYN2mhVwx",
      "include_colab_link": true
    },
    "kernelspec": {
      "name": "python3",
      "display_name": "Python 3"
    },
    "language_info": {
      "name": "python"
    }
  },
  "cells": [
    {
      "cell_type": "markdown",
      "metadata": {
        "id": "view-in-github",
        "colab_type": "text"
      },
      "source": [
        "<a href=\"https://colab.research.google.com/github/Ahtesham-Ibne-Mostafa/Artificial_Intelligence/blob/main/Alpha_beta_pruning.ipynb\" target=\"_parent\"><img src=\"https://colab.research.google.com/assets/colab-badge.svg\" alt=\"Open In Colab\"/></a>"
      ]
    },
    {
      "cell_type": "code",
      "execution_count": 7,
      "metadata": {
        "colab": {
          "base_uri": "https://localhost:8080/"
        },
        "id": "4jhqRJ8PU3oS",
        "outputId": "7d5637f6-fcff-4a03-87de-a1cfcae75c81"
      },
      "outputs": [
        {
          "output_type": "stream",
          "name": "stdout",
          "text": [
            "Enter starting player (0 for Scorpion, 1 for Sub-Zero): 0\n",
            "Game Winner: Scorpion\n",
            "Total Rounds Played: 3\n",
            "Winner of Round 1: Scorpion\n",
            "Winner of Round 2: Sub-Zero\n",
            "Winner of Round 3: Scorpion\n"
          ]
        }
      ],
      "source": [
        "import random\n",
        "\n",
        "# Define utility values for Scorpion and Sub-Zero\n",
        "SCORPION = -1\n",
        "SUB_ZERO = 1\n",
        "\n",
        "def alpha_beta_pruning(depth, node_index, maximizing_player, values, alpha, beta):\n",
        "    # Base case: If we've reached a leaf node\n",
        "    if depth == 5:\n",
        "        return values[node_index]\n",
        "\n",
        "    if maximizing_player:\n",
        "        max_eval = float('-inf')\n",
        "        # Branching factor of 2, so 2 children\n",
        "        for i in range(2):\n",
        "            eval = alpha_beta_pruning(depth + 1, node_index * 2 + i, False, values, alpha, beta)\n",
        "            max_eval = max(max_eval, eval)\n",
        "            alpha = max(alpha, eval)\n",
        "            if beta <= alpha:\n",
        "                break  # Beta cutoff\n",
        "        return max_eval\n",
        "    else:\n",
        "        min_eval = float('inf')\n",
        "        for i in range(2):\n",
        "            eval = alpha_beta_pruning(depth + 1, node_index * 2 + i, True, values, alpha, beta)\n",
        "            min_eval = min(min_eval, eval)\n",
        "            beta = min(beta, eval)\n",
        "            if beta <= alpha:\n",
        "                break  # Alpha cutoff\n",
        "        return min_eval\n",
        "\n",
        "def simulate_mortal_kombat(starting_player):\n",
        "    # Generate random utility values for the leaf nodes\n",
        "    values = [random.choice([SCORPION, SUB_ZERO]) for _ in range(32)]\n",
        "\n",
        "    rounds = []\n",
        "    current_player = starting_player\n",
        "    for round_num in range(3):  # Simulate 3 rounds\n",
        "        winner = alpha_beta_pruning(0, 0, current_player == 1, values, float('-inf'), float('inf'))\n",
        "        rounds.append(\"Sub-Zero\" if winner == SUB_ZERO else \"Scorpion\")\n",
        "        current_player = 1 - current_player  # Alternate who starts first\n",
        "\n",
        "    # Determine game winner based on majority of round wins\n",
        "    scorpion_wins = rounds.count(\"Scorpion\")\n",
        "    sub_zero_wins = rounds.count(\"Sub-Zero\")\n",
        "\n",
        "    game_winner = \"Scorpion\" if scorpion_wins > sub_zero_wins else \"Sub-Zero\"\n",
        "\n",
        "    return game_winner, len(rounds), rounds\n",
        "\n",
        "# Input from the user:\n",
        "starting_player = int(input(\"Enter starting player (0 for Scorpion, 1 for Sub-Zero): \"))\n",
        "\n",
        "# Simulate the game\n",
        "game_winner, total_rounds, rounds_winners = simulate_mortal_kombat(starting_player)\n",
        "\n",
        "# Output the results in the required format\n",
        "print(f\"Game Winner: {game_winner}\")\n",
        "print(f\"Total Rounds Played: {total_rounds}\")\n",
        "for i, winner in enumerate(rounds_winners):\n",
        "    print(f\"Winner of Round {i + 1}: {winner}\")\n"
      ]
    },
    {
      "cell_type": "code",
      "source": [
        "import random\n",
        "\n",
        "# Define constants for player utility values\n",
        "PLAYER_SCORPION = -1\n",
        "PLAYER_SUB_ZERO = 1\n",
        "\n",
        "def alpha_beta(depth, index, is_maximizing, utilities, alpha, beta):\n",
        "    # Base case: If we've reached a leaf node\n",
        "    if depth == 5:\n",
        "        return utilities[index]\n",
        "\n",
        "    if is_maximizing:\n",
        "        max_value = float('-inf')\n",
        "        # Branching factor of 2, so 2 children\n",
        "        for i in range(2):\n",
        "            value = alpha_beta(depth + 1, index * 2 + i, False, utilities, alpha, beta)\n",
        "            max_value = max(max_value, value)\n",
        "            alpha = max(alpha, value)\n",
        "            if beta <= alpha:\n",
        "                break  # Beta cutoff\n",
        "        return max_value\n",
        "    else:\n",
        "        min_value = float('inf')\n",
        "        for i in range(2):\n",
        "            value = alpha_beta(depth + 1, index * 2 + i, True, utilities, alpha, beta)\n",
        "            min_value = min(min_value, value)\n",
        "            beta = min(beta, value)\n",
        "            if beta <= alpha:\n",
        "                break  # Alpha cutoff\n",
        "        return min_value\n",
        "\n",
        "def simulate_game(starting_player):\n",
        "    # Generate random utility values for the leaf nodes\n",
        "    utilities = [random.choice([PLAYER_SCORPION, PLAYER_SUB_ZERO]) for _ in range(32)]\n",
        "\n",
        "    rounds_results = []\n",
        "    current_player = starting_player\n",
        "    for round_number in range(3):  # Simulate 3 rounds\n",
        "        winner = alpha_beta(0, 0, current_player == 1, utilities, float('-inf'), float('inf'))\n",
        "        rounds_results.append(\"Sub-Zero\" if winner == PLAYER_SUB_ZERO else \"Scorpion\")\n",
        "        current_player = 1 - current_player  # Alternate who starts first\n",
        "\n",
        "    # Determine game winner based on majority of round wins\n",
        "    scorpion_wins = rounds_results.count(\"Scorpion\")\n",
        "    sub_zero_wins = rounds_results.count(\"Sub-Zero\")\n",
        "\n",
        "    game_winner = \"Scorpion\" if scorpion_wins > sub_zero_wins else \"Sub-Zero\"\n",
        "\n",
        "    return game_winner, len(rounds_results), rounds_results\n",
        "\n",
        "# Input from the user:\n",
        "starting_player = int(input(\"Enter starting player (0 for Scorpion, 1 for Sub-Zero): \"))\n",
        "\n",
        "# Simulate the game\n",
        "game_winner, total_rounds, rounds_winners = simulate_game(starting_player)\n",
        "\n",
        "# Output the results in the required format\n",
        "print(f\"Game Winner: {game_winner}\")\n",
        "print(f\"Total Rounds Played: {total_rounds}\")\n",
        "for i, winner in enumerate(rounds_winners):\n",
        "    print(f\"Winner of Round {i + 1}: {winner}\")\n"
      ],
      "metadata": {
        "colab": {
          "base_uri": "https://localhost:8080/"
        },
        "id": "tNbVej9oZGCw",
        "outputId": "7cb4c855-5201-40f9-a61d-c8936a298c55"
      },
      "execution_count": 8,
      "outputs": [
        {
          "output_type": "stream",
          "name": "stdout",
          "text": [
            "Enter starting player (0 for Scorpion, 1 for Sub-Zero): 0\n",
            "Game Winner: Scorpion\n",
            "Total Rounds Played: 3\n",
            "Winner of Round 1: Scorpion\n",
            "Winner of Round 2: Scorpion\n",
            "Winner of Round 3: Scorpion\n"
          ]
        }
      ]
    },
    {
      "cell_type": "code",
      "source": [
        "# Part 1: Mortal Kombat\n",
        "\n",
        "import random\n",
        "from enum import Enum\n",
        "from typing import List, Tuple\n",
        "\n",
        "# Define an Enum for players\n",
        "class Player(Enum):\n",
        "    SCORPION = -1\n",
        "    SUB_ZERO = 1\n",
        "\n",
        "def generate_utilities(size: int) -> List[int]:\n",
        "    \"\"\"Generate random utility values for the leaf nodes.\"\"\"\n",
        "    return [random.choice([Player.SCORPION.value, Player.SUB_ZERO.value]) for _ in range(size)]\n",
        "\n",
        "def alpha_beta(depth: int, index: int, is_maximizing: bool, utilities: List[int], alpha: float, beta: float) -> int:\n",
        "    \"\"\"Perform the alpha-beta pruning algorithm.\"\"\"\n",
        "    if depth == 5:\n",
        "        return utilities[index]\n",
        "\n",
        "    if is_maximizing:\n",
        "        max_value = float('-inf')\n",
        "        for i in range(2):\n",
        "            value = alpha_beta(depth + 1, index * 2 + i, False, utilities, alpha, beta)\n",
        "            max_value = max(max_value, value)\n",
        "            alpha = max(alpha, value)\n",
        "            if beta <= alpha:\n",
        "                break  # Beta cutoff\n",
        "        return max_value\n",
        "    else:\n",
        "        min_value = float('inf')\n",
        "        for i in range(2):\n",
        "            value = alpha_beta(depth + 1, index * 2 + i, True, utilities, alpha, beta)\n",
        "            min_value = min(min_value, value)\n",
        "            if beta <= alpha:\n",
        "                break  # Alpha cutoff\n",
        "        return min_value\n",
        "\n",
        "def simulate_game(starting_player: Player) -> Tuple[str, int, List[str]]:\n",
        "    \"\"\"Simulate the game and determine the winner.\"\"\"\n",
        "    utilities = generate_utilities(32)\n",
        "\n",
        "    rounds_results = []\n",
        "    current_player = starting_player\n",
        "    for round_number in range(3):  # Simulate 3 rounds\n",
        "        winner = alpha_beta(0, 0, current_player == Player.SUB_ZERO, utilities, float('-inf'), float('inf'))\n",
        "        rounds_results.append(\"Sub-Zero\" if winner == Player.SUB_ZERO.value else \"Scorpion\")\n",
        "        current_player = Player.SCORPION if current_player == Player.SUB_ZERO else Player.SUB_ZERO\n",
        "\n",
        "    scorpion_wins = rounds_results.count(\"Scorpion\")\n",
        "    sub_zero_wins = rounds_results.count(\"Sub-Zero\")\n",
        "\n",
        "    game_winner = \"Scorpion\" if scorpion_wins > sub_zero_wins else \"Sub-Zero\"\n",
        "\n",
        "    return game_winner, len(rounds_results), rounds_results\n",
        "\n",
        "def get_starting_player() -> Player:\n",
        "    \"\"\"Get and validate the starting player input from the user.\"\"\"\n",
        "    while True:\n",
        "        try:\n",
        "            player_input = int(input(\"Enter starting player (0 for Scorpion, 1 for Sub-Zero): \"))\n",
        "            if player_input == 0:\n",
        "                return Player.SCORPION\n",
        "            elif player_input == 1:\n",
        "                return Player.SUB_ZERO\n",
        "            else:\n",
        "                print(\"Invalid input. Please enter 0 or 1.\")\n",
        "        except ValueError:\n",
        "            print(\"Invalid input. Please enter a number (0 or 1).\")\n",
        "\n",
        "# Input from the user:\n",
        "starting_player = get_starting_player()\n",
        "\n",
        "# Simulate the game\n",
        "game_winner, total_rounds, rounds_winners = simulate_game(starting_player)\n",
        "\n",
        "# Output the results in the required format\n",
        "print(f\"Game Winner: {game_winner}\")\n",
        "print(f\"Total Rounds Played: {total_rounds}\")\n",
        "for i, winner in enumerate(rounds_winners):\n",
        "    print(f\"Winner of Round {i + 1}: {winner}\")\n"
      ],
      "metadata": {
        "colab": {
          "base_uri": "https://localhost:8080/"
        },
        "id": "haOQujp0ao47",
        "outputId": "e695fe52-44da-4dd4-88e4-8605803c1a74"
      },
      "execution_count": 9,
      "outputs": [
        {
          "output_type": "stream",
          "name": "stdout",
          "text": [
            "Enter starting player (0 for Scorpion, 1 for Sub-Zero): 0\n",
            "Game Winner: Scorpion\n",
            "Total Rounds Played: 3\n",
            "Winner of Round 1: Scorpion\n",
            "Winner of Round 2: Sub-Zero\n",
            "Winner of Round 3: Scorpion\n"
          ]
        }
      ]
    },
    {
      "cell_type": "code",
      "source": [
        "def minimax(depth, node_index, maximizing_player, scores, alpha, beta):\n",
        "    # Base case: Leaf node\n",
        "    if depth == 3:\n",
        "        return scores[node_index]\n",
        "\n",
        "    if maximizing_player:\n",
        "        max_eval = float('-inf')\n",
        "        # Branching factor is 2 (Pacman has two moves at each step)\n",
        "        for i in range(2):\n",
        "            eval = minimax(depth + 1, node_index * 2 + i, False, scores, alpha, beta)\n",
        "            max_eval = max(max_eval, eval)\n",
        "            alpha = max(alpha, eval)\n",
        "            if beta <= alpha:\n",
        "                break  # Beta cut-off\n",
        "        return max_eval\n",
        "    else:\n",
        "        min_eval = float('inf')\n",
        "        for i in range(2):\n",
        "            eval = minimax(depth + 1, node_index * 2 + i, True, scores, alpha, beta)\n",
        "            min_eval = min(min_eval, eval)\n",
        "            beta = min(beta, eval)\n",
        "            if beta <= alpha:\n",
        "                break  # Alpha cut-off\n",
        "        return min_eval\n",
        "\n",
        "def pacman_game(c):\n",
        "    # Scores at leaf nodes (from the image)\n",
        "    scores = [3, 6, 2, 3, 7, 1, 2, 0]\n",
        "\n",
        "    # Calculate the final minimax value without using dark magic\n",
        "    final_minimax_value = minimax(0, 0, True, scores, float('-inf'), float('inf'))\n",
        "\n",
        "    # Pacman's choices:\n",
        "    # Left subtree: Max value is 6 (scores[1])\n",
        "    # Right subtree: Max value is 7 (scores[4])\n",
        "\n",
        "    # Calculate potential outcomes using dark magic\n",
        "    left_with_magic = scores[1] - c  # 6 - c\n",
        "    right_with_magic = scores[4] - c  # 7 - c\n",
        "\n",
        "    # Compare the final values\n",
        "    if final_minimax_value >= max(left_with_magic, right_with_magic):\n",
        "        return f\"The minimax value is {final_minimax_value}. Pacman does not use dark magic.\"\n",
        "    else:\n",
        "        if left_with_magic > right_with_magic:\n",
        "            return f\"The new minimax value is {left_with_magic}. Pacman goes left and uses dark magic.\"\n",
        "        else:\n",
        "            return f\"The new minimax value is {right_with_magic}. Pacman goes right and uses dark magic.\"\n",
        "\n",
        "# Example Test Cases:\n",
        "print(pacman_game(int(input('Enter the input: '))))\n",
        "\n"
      ],
      "metadata": {
        "colab": {
          "base_uri": "https://localhost:8080/"
        },
        "id": "LfT0QvxGb-Ob",
        "outputId": "76e6bf71-1ad7-43b3-b8d4-ef40561fd469"
      },
      "execution_count": 17,
      "outputs": [
        {
          "output_type": "stream",
          "name": "stdout",
          "text": [
            "Enter the input: 3\n",
            "The new minimax value is 4. Pacman goes right and uses dark magic.\n"
          ]
        }
      ]
    },
    {
      "cell_type": "code",
      "source": [
        "import random\n",
        "from typing import List\n",
        "\n",
        "def minimax(depth: int, node_index: int, is_maximizing: bool, scores: List[int], alpha: float, beta: float) -> int:\n",
        "    \"\"\"Perform the minimax algorithm with alpha-beta pruning.\"\"\"\n",
        "    if depth == 3:\n",
        "        return scores[node_index]\n",
        "\n",
        "    if is_maximizing:\n",
        "        max_value = float('-inf')\n",
        "        for i in range(2):\n",
        "            value = minimax(depth + 1, node_index * 2 + i, False, scores, alpha, beta)\n",
        "            max_value = max(max_value, value)\n",
        "            alpha = max(alpha, value)\n",
        "            if beta <= alpha:\n",
        "                break  # Beta cut-off\n",
        "        return max_value\n",
        "    else:\n",
        "        min_value = float('inf')\n",
        "        for i in range(2):\n",
        "            value = minimax(depth + 1, node_index * 2 + i, True, scores, alpha, beta)\n",
        "            min_value = min(min_value, value)\n",
        "            beta = min(beta, value)\n",
        "            if beta <= alpha:\n",
        "                break  # Alpha cut-off\n",
        "        return min_value\n",
        "\n",
        "def pacman_game(dark_magic_cost: int) -> str:\n",
        "    \"\"\"Simulate Pacman game with and without using dark magic.\"\"\"\n",
        "    scores = [3, 6, 2, 3, 7, 1, 2, 0]\n",
        "\n",
        "    final_minimax_value = minimax(0, 0, True, scores, float('-inf'), float('inf'))\n",
        "\n",
        "    left_with_magic = scores[1] - dark_magic_cost  # 6 - c\n",
        "    right_with_magic = scores[4] - dark_magic_cost  # 7 - c\n",
        "\n",
        "    if final_minimax_value >= max(left_with_magic, right_with_magic):\n",
        "        return f\"The minimax value is {final_minimax_value}. Pacman does not use dark magic.\"\n",
        "    else:\n",
        "        if left_with_magic > right_with_magic:\n",
        "            return f\"The new minimax value is {left_with_magic}. Pacman goes left and uses dark magic.\"\n",
        "        else:\n",
        "            return f\"The new minimax value is {right_with_magic}. Pacman goes right and uses dark magic.\"\n",
        "\n",
        "# Example Test Cases:\n",
        "if __name__ == \"__main__\":\n",
        "    dark_magic_cost = int(input('Enter the dark magic cost: '))\n",
        "    print(pacman_game(dark_magic_cost))\n"
      ],
      "metadata": {
        "colab": {
          "base_uri": "https://localhost:8080/"
        },
        "id": "dlIT3kYMfWeC",
        "outputId": "75c7288f-d190-4245-a471-919eb17a9b7e"
      },
      "execution_count": 19,
      "outputs": [
        {
          "output_type": "stream",
          "name": "stdout",
          "text": [
            "Enter the dark magic cost: 2\n",
            "The new minimax value is 5. Pacman goes right and uses dark magic.\n"
          ]
        }
      ]
    },
    {
      "cell_type": "code",
      "source": [],
      "metadata": {
        "id": "yzWxUPxjgtKP"
      },
      "execution_count": null,
      "outputs": []
    }
  ]
}