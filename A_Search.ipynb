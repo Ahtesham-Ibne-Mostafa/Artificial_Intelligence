{
  "nbformat": 4,
  "nbformat_minor": 0,
  "metadata": {
    "colab": {
      "provenance": [],
      "authorship_tag": "ABX9TyPcHXm74H1xOU0dgKGVKnKQ",
      "include_colab_link": true
    },
    "kernelspec": {
      "name": "python3",
      "display_name": "Python 3"
    },
    "language_info": {
      "name": "python"
    }
  },
  "cells": [
    {
      "cell_type": "markdown",
      "metadata": {
        "id": "view-in-github",
        "colab_type": "text"
      },
      "source": [
        "<a href=\"https://colab.research.google.com/github/Ahtesham-Ibne-Mostafa/Artificial_Intelligence/blob/main/A_Search.ipynb\" target=\"_parent\"><img src=\"https://colab.research.google.com/assets/colab-badge.svg\" alt=\"Open In Colab\"/></a>"
      ]
    },
    {
      "cell_type": "code",
      "source": [
        "file = '/content/Input_file.txt'\n",
        "\n",
        "file_read = open(file, \"r\")\n",
        "\n",
        "Start_node = input(\"Start node: \")\n",
        "Destination = input(\"Destination: \")\n",
        "\n",
        "graph = {}\n",
        "\n",
        "paths = file_read.readlines()\n",
        "\n",
        "for i in range(len(paths)):\n",
        "    child_dict = {}\n",
        "    path = paths[i].strip().split()\n",
        "\n",
        "    node = path[0]\n",
        "    heuristic = int(path[1])\n",
        "\n",
        "    for i in range(2, len(path), 2):\n",
        "        child_dict[path[i]] = int(path[i+1])\n",
        "\n",
        "    update_graph = {\"parent_heuristic\":heuristic, \"child\":child_dict}\n",
        "    graph[node] = update_graph\n",
        "\n",
        "\n",
        "p_Queue = [[graph[Start_node]['parent_heuristic'], Start_node]]\n",
        "cost = []\n",
        "\n",
        "while True:\n",
        "    p_Queue.sort()\n",
        "    hand = p_Queue.pop(0)\n",
        "    cost.append(hand)\n",
        "\n",
        "    if hand[1] == Destination:\n",
        "        break\n",
        "\n",
        "    child = graph[hand[1]][\"child\"]\n",
        "\n",
        "    for key, value in child.items():\n",
        "\n",
        "        prev_path = (hand[0] - graph[hand[1]][\"parent_heuristic\"])\n",
        "\n",
        "        total_path = (prev_path + value)\n",
        "        gh_x = total_path + graph[key][\"parent_heuristic\"]\n",
        "\n",
        "        p_Queue.append([gh_x, key])\n",
        "\n",
        "\n",
        "\n",
        "if cost[-1][1] != Destination:\n",
        "    print(\"NO PATH FOUND\")\n",
        "\n",
        "else:\n",
        "    rev_count = len(cost)-1\n",
        "    final_path = \"\"\n",
        "    for i in range(rev_count, -1, -1):\n",
        "        if cost[rev_count][1] in graph[cost[i-1][1]][\"child\"]:\n",
        "            final_path = f\"{cost[i-1][1]} --> {final_path}\"\n",
        "            rev_count = i-1\n",
        "\n",
        "print(\"Output:\")\n",
        "print(f\"Path: {final_path}{cost[-1][1]} \\nTotal Distance: {cost[-1][0]} km\")"
      ],
      "metadata": {
        "colab": {
          "base_uri": "https://localhost:8080/"
        },
        "id": "4dWaHlTiWmOV",
        "outputId": "1e294035-ac8f-4fc4-f8ec-7c5cf5204b67"
      },
      "execution_count": 24,
      "outputs": [
        {
          "output_type": "stream",
          "name": "stdout",
          "text": [
            "366\n"
          ]
        }
      ]
    },
    {
      "cell_type": "code",
      "source": [
        "class Graph:\n",
        "    def __init__(self, file_path):\n",
        "        self.graph = {}\n",
        "        self.load_graph(file_path)\n",
        "\n",
        "    def load_graph(self, file_path):\n",
        "        with open(file_path, \"r\") as file_read:\n",
        "            paths = file_read.readlines()\n",
        "            for path in paths:\n",
        "                node, heuristic, *neighbors = path.strip().split()\n",
        "                child_dict = {neighbors[i]: int(neighbors[i + 1]) for i in range(0, len(neighbors), 2)}\n",
        "                self.graph[node] = {\"parent_heuristic\": int(heuristic), \"child\": child_dict}\n",
        "\n",
        "    def find_optimal_path(self, start_node, destination):\n",
        "        p_queue = [[self.graph[start_node]['parent_heuristic'], start_node]]\n",
        "        cost = []\n",
        "\n",
        "        while True:\n",
        "            p_queue.sort()\n",
        "            hand = p_queue.pop(0)\n",
        "            cost.append(hand)\n",
        "\n",
        "            if hand[1] == destination:\n",
        "                break\n",
        "\n",
        "            child = self.graph[hand[1]][\"child\"]\n",
        "\n",
        "            for key, value in child.items():\n",
        "                prev_path = hand[0] - self.graph[hand[1]][\"parent_heuristic\"]\n",
        "                total_path = prev_path + value\n",
        "                gh_x = total_path + self.graph[key][\"parent_heuristic\"]\n",
        "                p_queue.append([gh_x, key])\n",
        "\n",
        "        if cost[-1][1] != destination:\n",
        "            return \"NO PATH FOUND\"\n",
        "\n",
        "        final_path = \"\"\n",
        "        rev_count = len(cost) - 1\n",
        "        for i in range(rev_count, -1, -1):\n",
        "            if cost[rev_count][1] in self.graph[cost[i - 1][1]][\"child\"]:\n",
        "                final_path = f\"{cost[i - 1][1]} --> {final_path}\"\n",
        "                rev_count = i - 1\n",
        "\n",
        "        return f\"Path: {final_path}{cost[-1][1]}\\nTotal Distance: {cost[-1][0]} km\"\n",
        "\n",
        "\n",
        "if __name__ == \"__main__\":\n",
        "    input_file = '/content/Input_file.txt'\n",
        "    start_node = input(\"Start node: \")\n",
        "    destination_node = input(\"Destination: \")\n",
        "\n",
        "    graph = Graph(input_file)\n",
        "    result = graph.find_optimal_path(start_node, destination_node)\n",
        "    print(\"Output:\")\n",
        "    print(result)\n"
      ],
      "metadata": {
        "colab": {
          "base_uri": "https://localhost:8080/"
        },
        "id": "cXIgAXlkWzwU",
        "outputId": "ada2b0f3-ec1f-4345-d3fe-a9646be4af40"
      },
      "execution_count": 30,
      "outputs": [
        {
          "output_type": "stream",
          "name": "stdout",
          "text": [
            "Start node: Arad\n",
            "Destination: Bucharest\n",
            "Output:\n",
            "Path: Arad --> Sibiu --> RimnicuVilcea --> Pitesti --> Bucharest\n",
            "Total Distance: 418 km\n"
          ]
        }
      ]
    },
    {
      "cell_type": "code",
      "source": [],
      "metadata": {
        "id": "-UBxaBHZZjZs"
      },
      "execution_count": null,
      "outputs": []
    }
  ]
}